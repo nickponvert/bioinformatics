{
 "metadata": {
  "name": "Linguistic Complexity"
 },
 "nbformat": 3,
 "nbformat_minor": 0,
 "worksheets": [
  {
   "cells": [
    {
     "cell_type": "code",
     "collapsed": false,
     "input": [
      "import random\n",
      "\n",
      "def rand_seq_gen(length):\n",
      "    seq=[]\n",
      "    for i in range(length):\n",
      "        seq.append(random.choice(['A', 'T', 'G', 'C']))\n",
      "    return seq\n",
      "\n",
      "rand_seq_gen(20)"
     ],
     "language": "python",
     "metadata": {},
     "outputs": [
      {
       "output_type": "pyout",
       "prompt_number": 14,
       "text": [
        "['T',\n",
        " 'C',\n",
        " 'A',\n",
        " 'C',\n",
        " 'A',\n",
        " 'G',\n",
        " 'C',\n",
        " 'A',\n",
        " 'T',\n",
        " 'G',\n",
        " 'C',\n",
        " 'T',\n",
        " 'C',\n",
        " 'A',\n",
        " 'C',\n",
        " 'C',\n",
        " 'T',\n",
        " 'A',\n",
        " 'T',\n",
        " 'T']"
       ]
      }
     ],
     "prompt_number": 14
    },
    {
     "cell_type": "code",
     "collapsed": false,
     "input": [
      "seq1, seq2, seq3=[rand_seq_gen(100) for i in range(3)]"
     ],
     "language": "python",
     "metadata": {},
     "outputs": [],
     "prompt_number": 15
    },
    {
     "cell_type": "code",
     "collapsed": false,
     "input": [
      "def make_less_complex(seqs, index, repeat_element):\n",
      "    for i in seqs:\n",
      "        i[index:(index+len(repeat_element))]=repeat_element"
     ],
     "language": "python",
     "metadata": {},
     "outputs": [],
     "prompt_number": 16
    },
    {
     "cell_type": "code",
     "collapsed": false,
     "input": [
      "make_less_complex([seq1,seq2,seq3], 40, 'AAAAAAAAAAA')"
     ],
     "language": "python",
     "metadata": {},
     "outputs": [],
     "prompt_number": 17
    },
    {
     "cell_type": "code",
     "collapsed": false,
     "input": [
      "str1=''.join(seq1)\n",
      "str2=''.join(seq2)\n",
      "str3=''.join(seq3)"
     ],
     "language": "python",
     "metadata": {},
     "outputs": [],
     "prompt_number": 26
    },
    {
     "cell_type": "code",
     "collapsed": false,
     "input": [
      "str1"
     ],
     "language": "python",
     "metadata": {},
     "outputs": [
      {
       "output_type": "pyout",
       "prompt_number": 25,
       "text": [
        "'TATTTAACCTAAGGTAGCACTTCGAATTTACCACTGATCTAAAAAAAAAAAAAAACCGCACGGTCAGAACTGACAGCGATGACAAGTACTGGAAGAAGGT'"
       ]
      }
     ],
     "prompt_number": 25
    },
    {
     "cell_type": "code",
     "collapsed": false,
     "input": [
      "def split_into_words(string, wordsize):\n",
      "    words=[]\n",
      "    i=0\n",
      "    while i < len(string)-wordsize: \n",
      "        words.append(string[i:(i+wordsize)]) \n",
      "        i+=wordsize \n",
      "    #words.append(string[i:]) #gives us smaller words on the end, may mess up our calculations\n",
      "    return words"
     ],
     "language": "python",
     "metadata": {},
     "outputs": [],
     "prompt_number": 34
    },
    {
     "cell_type": "code",
     "collapsed": false,
     "input": [
      "words1=split_into_words(str1, 3)\n",
      "words2=split_into_words(str2, 3)\n",
      "words3=split_into_words(str3, 3)"
     ],
     "language": "python",
     "metadata": {},
     "outputs": [],
     "prompt_number": 37
    },
    {
     "cell_type": "code",
     "collapsed": false,
     "input": [
      "allwords=words1+words2+words3"
     ],
     "language": "python",
     "metadata": {},
     "outputs": [],
     "prompt_number": 38
    },
    {
     "cell_type": "code",
     "collapsed": false,
     "input": [
      "from collections import Counter\n",
      "totals=Counter(allwords)"
     ],
     "language": "python",
     "metadata": {},
     "outputs": [],
     "prompt_number": 40
    },
    {
     "cell_type": "code",
     "collapsed": false,
     "input": [
      "def complexity(wordlist):\n",
      "    y=[]\n",
      "    for word in wordlist:\n",
      "        y.append(totals[word])\n",
      "    return y"
     ],
     "language": "python",
     "metadata": {},
     "outputs": [],
     "prompt_number": 43
    },
    {
     "cell_type": "code",
     "collapsed": false,
     "input": [
      "y1=complexity(words1)\n",
      "y2=complexity(words2)\n",
      "y3=complexity(words3)"
     ],
     "language": "python",
     "metadata": {},
     "outputs": [],
     "prompt_number": 45
    },
    {
     "cell_type": "code",
     "collapsed": false,
     "input": [
      "x=range(len(y1))"
     ],
     "language": "python",
     "metadata": {},
     "outputs": [],
     "prompt_number": 46
    },
    {
     "cell_type": "code",
     "collapsed": false,
     "input": [
      "plot(x, y1) #This is something other than linguistic complexity, but it is still quite useful actually"
     ],
     "language": "python",
     "metadata": {},
     "outputs": [
      {
       "output_type": "pyout",
       "prompt_number": 48,
       "text": [
        "[<matplotlib.lines.Line2D at 0x37c3310>]"
       ]
      },
      {
       "output_type": "display_data",
       "png": "[encoded data removed]"
      }
     ],
     "prompt_number": 48
    },
    {
     "cell_type": "code",
     "collapsed": false,
     "input": [
      "plot(x, y2)"
     ],
     "language": "python",
     "metadata": {},
     "outputs": [
      {
       "output_type": "pyout",
       "prompt_number": 49,
       "text": [
        "[<matplotlib.lines.Line2D at 0x38ac390>]"
       ]
      },
      {
       "output_type": "display_data",
       "png": "[encoded data removed]"
      }
     ],
     "prompt_number": 49
    },
    {
     "cell_type": "code",
     "collapsed": false,
     "input": [
      "plot(x, y3)"
     ],
     "language": "python",
     "metadata": {},
     "outputs": [
      {
       "output_type": "pyout",
       "prompt_number": 50,
       "text": [
        "[<matplotlib.lines.Line2D at 0x3c55cd0>]"
       ]
      },
      {
       "output_type": "display_data",
       "png": "[encoded data removed]"
      }
     ],
     "prompt_number": 50
    },
    {
     "cell_type": "code",
     "collapsed": false,
     "input": [],
     "language": "python",
     "metadata": {},
     "outputs": []
    }
   ],
   "metadata": {}
  }
 ]
}