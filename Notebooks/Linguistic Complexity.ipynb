{
 "metadata": {
  "name": ""
 },
 "nbformat": 3,
 "nbformat_minor": 0,
 "worksheets": [
  {
   "cells": [
    {
     "cell_type": "markdown",
     "metadata": {},
     "source": [
      "##Determining the Linguistic Complexity of a DNA string\n",
      "\n",
      "**Objective**: Find Repetitive sequence elements in a DNA sequence or a file of sequences\n",
      "\n",
      "**Background**: Linguistic complexity is a measure of the repetitiveness of a piece of text. For an entire text it can be measured as the "
     ]
    },
    {
     "cell_type": "code",
     "collapsed": false,
     "input": [
      "import random\n",
      "\n",
      "def rand_seq_gen(length):\n",
      "    seq=[]\n",
      "    for i in range(length):\n",
      "        seq.append(random.choice(['A', 'T', 'G', 'C']))\n",
      "    return seq"
     ],
     "language": "python",
     "metadata": {},
     "outputs": [],
     "prompt_number": 26
    },
    {
     "cell_type": "code",
     "collapsed": false,
     "input": [
      "seq1, seq2, seq3=[rand_seq_gen(10000) for i in range(3)]"
     ],
     "language": "python",
     "metadata": {},
     "outputs": [],
     "prompt_number": "*"
    },
    {
     "cell_type": "code",
     "collapsed": false,
     "input": [
      "def make_less_complex(seqs, index, repeat_element):\n",
      "    for i in seqs:\n",
      "        i[index:(index+len(repeat_element))]=repeat_element"
     ],
     "language": "python",
     "metadata": {},
     "outputs": [],
     "prompt_number": 3
    },
    {
     "cell_type": "code",
     "collapsed": false,
     "input": [
      "make_less_complex([seq1,seq2,seq3], 40, 'AAAAAAAAAAA'*5)"
     ],
     "language": "python",
     "metadata": {},
     "outputs": [],
     "prompt_number": "*"
    },
    {
     "cell_type": "code",
     "collapsed": false,
     "input": [
      "str1=''.join(seq1)\n",
      "str2=''.join(seq2)\n",
      "str3=''.join(seq3)"
     ],
     "language": "python",
     "metadata": {},
     "outputs": [],
     "prompt_number": 5
    },
    {
     "cell_type": "code",
     "collapsed": false,
     "input": [
      "str1"
     ],
     "language": "python",
     "metadata": {},
     "outputs": [
      {
       "metadata": {},
       "output_type": "pyout",
       "prompt_number": 6,
       "text": [
        "'TCATTAGGAATTAAACTAGGTCGGACGGCTCTGGGGTTGAAAAAAAAAAAAGTCGAGCGTGTGATTAGGGCTTTCCCGCACGTACCGGATTTTGATATCG'"
       ]
      }
     ],
     "prompt_number": 6
    },
    {
     "cell_type": "code",
     "collapsed": false,
     "input": [
      "def split_into_words(string, wordsize):\n",
      "    words=[]\n",
      "    i=0\n",
      "    while i < len(string)-wordsize: \n",
      "        words.append(string[i:(i+wordsize)]) \n",
      "        i+=wordsize \n",
      "    #words.append(string[i:]) #gives us smaller words on the end, may mess up our calculations\n",
      "    return words"
     ],
     "language": "python",
     "metadata": {},
     "outputs": [],
     "prompt_number": 7
    },
    {
     "cell_type": "code",
     "collapsed": false,
     "input": [
      "words1=split_into_words(str1, 3)\n",
      "words2=split_into_words(str2, 3)\n",
      "words3=split_into_words(str3, 3)"
     ],
     "language": "python",
     "metadata": {},
     "outputs": [],
     "prompt_number": 8
    },
    {
     "cell_type": "code",
     "collapsed": false,
     "input": [
      "allwords=words1+words2+words3"
     ],
     "language": "python",
     "metadata": {},
     "outputs": [],
     "prompt_number": 9
    },
    {
     "cell_type": "code",
     "collapsed": false,
     "input": [
      "from collections import Counter\n",
      "totals=Counter(allwords)"
     ],
     "language": "python",
     "metadata": {},
     "outputs": [],
     "prompt_number": 10
    },
    {
     "cell_type": "code",
     "collapsed": false,
     "input": [
      "def complexity(wordlist):\n",
      "    y=[]\n",
      "    for word in wordlist:\n",
      "        y.append(totals[word])\n",
      "    return y"
     ],
     "language": "python",
     "metadata": {},
     "outputs": [],
     "prompt_number": 11
    },
    {
     "cell_type": "code",
     "collapsed": false,
     "input": [
      "y1=complexity(words1)\n",
      "y2=complexity(words2)\n",
      "y3=complexity(words3)"
     ],
     "language": "python",
     "metadata": {},
     "outputs": [],
     "prompt_number": 12
    },
    {
     "cell_type": "code",
     "collapsed": false,
     "input": [
      "x=range(len(y1))"
     ],
     "language": "python",
     "metadata": {},
     "outputs": [],
     "prompt_number": 13
    },
    {
     "cell_type": "code",
     "collapsed": false,
     "input": [
      "plot(x, y1) #This is something other than linguistic complexity, but it is still quite useful actually"
     ],
     "language": "python",
     "metadata": {},
     "outputs": [
      {
       "metadata": {},
       "output_type": "pyout",
       "prompt_number": 14,
       "text": [
        "[<matplotlib.lines.Line2D at 0x3ad5f50>]"
       ]
      },
      {
       "metadata": {},
       "output_type": "display_data",
       "png": "[encoded data removed]",
       "text": [
        "<matplotlib.figure.Figure at 0x3a646d0>"
       ]
      }
     ],
     "prompt_number": 14
    },
    {
     "cell_type": "code",
     "collapsed": false,
     "input": [
      "plot(x, y2)"
     ],
     "language": "python",
     "metadata": {},
     "outputs": [
      {
       "metadata": {},
       "output_type": "pyout",
       "prompt_number": 15,
       "text": [
        "[<matplotlib.lines.Line2D at 0x3960210>]"
       ]
      },
      {
       "metadata": {},
       "output_type": "display_data",
       "png": "[encoded data removed]",
       "text": [
        "<matplotlib.figure.Figure at 0x3ae1690>"
       ]
      }
     ],
     "prompt_number": 15
    },
    {
     "cell_type": "code",
     "collapsed": false,
     "input": [
      "plot(x, y3)"
     ],
     "language": "python",
     "metadata": {},
     "outputs": [
      {
       "metadata": {},
       "output_type": "pyout",
       "prompt_number": 16,
       "text": [
        "[<matplotlib.lines.Line2D at 0x398e650>]"
       ]
      },
      {
       "metadata": {},
       "output_type": "display_data",
       "png": "[encoded data removed]",
       "text": [
        "<matplotlib.figure.Figure at 0x39684d0>"
       ]
      }
     ],
     "prompt_number": 16
    },
    {
     "cell_type": "markdown",
     "metadata": {},
     "source": [
      "A new experiment"
     ]
    },
    {
     "cell_type": "code",
     "collapsed": false,
     "input": [
      "def slideComp(string, window):\n",
      "    words=split_into_words(string, 3)\n",
      "    L=len(words)-window\n",
      "    vec=zeros(L, float) #Preallocation of memory! Smart!\n",
      "    for i in range(L):\n",
      "        uniq=set(words[i:i+window])\n",
      "        vec[i]=len(uniq)/float(len(words[i:i+window]))\n",
      "    return vec\n",
      "\n",
      "slide1=slideComp(str1, 20)"
     ],
     "language": "python",
     "metadata": {},
     "outputs": [],
     "prompt_number": 23
    },
    {
     "cell_type": "code",
     "collapsed": false,
     "input": [
      "x=range(len(slide1))"
     ],
     "language": "python",
     "metadata": {},
     "outputs": [],
     "prompt_number": 24
    },
    {
     "cell_type": "code",
     "collapsed": false,
     "input": [
      "plot(x, slide1)"
     ],
     "language": "python",
     "metadata": {},
     "outputs": [
      {
       "metadata": {},
       "output_type": "pyout",
       "prompt_number": 25,
       "text": [
        "[<matplotlib.lines.Line2D at 0x44a8e10>]"
       ]
      },
      {
       "metadata": {},
       "output_type": "display_data",
       "png": "[encoded data removed]",
       "text": [
        "<matplotlib.figure.Figure at 0x44849d0>"
       ]
      }
     ],
     "prompt_number": 25
    },
    {
     "cell_type": "code",
     "collapsed": false,
     "input": [],
     "language": "python",
     "metadata": {},
     "outputs": []
    }
   ],
   "metadata": {}
  }
 ]
}